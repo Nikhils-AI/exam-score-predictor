{
 "cells": [
  {
   "cell_type": "code",
   "execution_count": 29,
   "id": "d5dc8d84-0eac-4396-baa8-7ca80fde4c5b",
   "metadata": {},
   "outputs": [],
   "source": [
    "import matplotlib.pyplot as plt\n",
    "import pandas as pd\n",
    "import numpy as np"
   ]
  },
  {
   "cell_type": "markdown",
   "id": "f68923e1-870c-4a32-9195-973d5fa271b7",
   "metadata": {},
   "source": [
    "# **Pre-Processing**"
   ]
  },
  {
   "cell_type": "markdown",
   "id": "a6ef61db-d15d-47e6-9541-2972840ff089",
   "metadata": {},
   "source": [
    "### **1. Load and Read Data**"
   ]
  },
  {
   "cell_type": "code",
   "execution_count": 30,
   "id": "53a34bfd-21ce-4240-9fa5-1c3c276607d9",
   "metadata": {},
   "outputs": [],
   "source": [
    "df = pd.read_csv('../data/student_habits_performance.csv')"
   ]
  },
  {
   "cell_type": "markdown",
   "id": "cc1f6782-54bb-484c-b989-97b2abb6c188",
   "metadata": {},
   "source": [
    "### **2. Inspect Data**"
   ]
  },
  {
   "cell_type": "code",
   "execution_count": 31,
   "id": "1f933a3c-7adf-4b4d-bc46-76da1ccdb342",
   "metadata": {},
   "outputs": [
    {
     "name": "stdout",
     "output_type": "stream",
     "text": [
      "<class 'pandas.core.frame.DataFrame'>\n",
      "RangeIndex: 1000 entries, 0 to 999\n",
      "Data columns (total 16 columns):\n",
      " #   Column                         Non-Null Count  Dtype  \n",
      "---  ------                         --------------  -----  \n",
      " 0   student_id                     1000 non-null   object \n",
      " 1   age                            1000 non-null   int64  \n",
      " 2   gender                         1000 non-null   object \n",
      " 3   study_hours_per_day            1000 non-null   float64\n",
      " 4   social_media_hours             1000 non-null   float64\n",
      " 5   netflix_hours                  1000 non-null   float64\n",
      " 6   part_time_job                  1000 non-null   object \n",
      " 7   attendance_percentage          1000 non-null   float64\n",
      " 8   sleep_hours                    1000 non-null   float64\n",
      " 9   diet_quality                   1000 non-null   object \n",
      " 10  exercise_frequency             1000 non-null   int64  \n",
      " 11  parental_education_level       909 non-null    object \n",
      " 12  internet_quality               1000 non-null   object \n",
      " 13  mental_health_rating           1000 non-null   int64  \n",
      " 14  extracurricular_participation  1000 non-null   object \n",
      " 15  exam_score                     1000 non-null   float64\n",
      "dtypes: float64(6), int64(3), object(7)\n",
      "memory usage: 125.1+ KB\n"
     ]
    }
   ],
   "source": [
    "df.info()"
   ]
  },
  {
   "cell_type": "markdown",
   "id": "7ff1db47-4959-49d7-bb57-4d0fda04ded4",
   "metadata": {},
   "source": [
    "##### **We can infer that all columns except *parental_education_level* have no null values**"
   ]
  },
  {
   "cell_type": "markdown",
   "id": "917727d4-ac96-4c50-904c-f7004e98b29d",
   "metadata": {},
   "source": [
    "### **3. Fill Null Values**"
   ]
  },
  {
   "cell_type": "code",
   "execution_count": 32,
   "id": "19e07124-4179-44c5-8a83-0099db28fb64",
   "metadata": {},
   "outputs": [
    {
     "name": "stdout",
     "output_type": "stream",
     "text": [
      "<class 'pandas.core.frame.DataFrame'>\n",
      "RangeIndex: 1000 entries, 0 to 999\n",
      "Data columns (total 16 columns):\n",
      " #   Column                         Non-Null Count  Dtype  \n",
      "---  ------                         --------------  -----  \n",
      " 0   student_id                     1000 non-null   object \n",
      " 1   age                            1000 non-null   int64  \n",
      " 2   gender                         1000 non-null   object \n",
      " 3   study_hours_per_day            1000 non-null   float64\n",
      " 4   social_media_hours             1000 non-null   float64\n",
      " 5   netflix_hours                  1000 non-null   float64\n",
      " 6   part_time_job                  1000 non-null   object \n",
      " 7   attendance_percentage          1000 non-null   float64\n",
      " 8   sleep_hours                    1000 non-null   float64\n",
      " 9   diet_quality                   1000 non-null   object \n",
      " 10  exercise_frequency             1000 non-null   int64  \n",
      " 11  parental_education_level       1000 non-null   object \n",
      " 12  internet_quality               1000 non-null   object \n",
      " 13  mental_health_rating           1000 non-null   int64  \n",
      " 14  extracurricular_participation  1000 non-null   object \n",
      " 15  exam_score                     1000 non-null   float64\n",
      "dtypes: float64(6), int64(3), object(7)\n",
      "memory usage: 125.1+ KB\n"
     ]
    }
   ],
   "source": [
    "filler = df['parental_education_level'].mode()[0]\n",
    "df['parental_education_level'] = df['parental_education_level'].fillna(filler)\n",
    "df.info()"
   ]
  },
  {
   "cell_type": "markdown",
   "id": "399cbfe9-3b05-4201-ad6b-22f7ebacbd0d",
   "metadata": {},
   "source": [
    "##### **Filled in all null values**"
   ]
  },
  {
   "cell_type": "markdown",
   "id": "493b7f33-cba3-4a91-84cb-2dc5b0a9edc7",
   "metadata": {},
   "source": [
    "### **4. Drop Unnecessary Columns**"
   ]
  },
  {
   "cell_type": "code",
   "execution_count": 33,
   "id": "c83cfff2-68d6-4021-91c1-8186da6a9cc6",
   "metadata": {},
   "outputs": [
    {
     "name": "stdout",
     "output_type": "stream",
     "text": [
      "<class 'pandas.core.frame.DataFrame'>\n",
      "RangeIndex: 1000 entries, 0 to 999\n",
      "Data columns (total 15 columns):\n",
      " #   Column                         Non-Null Count  Dtype  \n",
      "---  ------                         --------------  -----  \n",
      " 0   age                            1000 non-null   int64  \n",
      " 1   gender                         1000 non-null   object \n",
      " 2   study_hours_per_day            1000 non-null   float64\n",
      " 3   social_media_hours             1000 non-null   float64\n",
      " 4   netflix_hours                  1000 non-null   float64\n",
      " 5   part_time_job                  1000 non-null   object \n",
      " 6   attendance_percentage          1000 non-null   float64\n",
      " 7   sleep_hours                    1000 non-null   float64\n",
      " 8   diet_quality                   1000 non-null   object \n",
      " 9   exercise_frequency             1000 non-null   int64  \n",
      " 10  parental_education_level       1000 non-null   object \n",
      " 11  internet_quality               1000 non-null   object \n",
      " 12  mental_health_rating           1000 non-null   int64  \n",
      " 13  extracurricular_participation  1000 non-null   object \n",
      " 14  exam_score                     1000 non-null   float64\n",
      "dtypes: float64(6), int64(3), object(6)\n",
      "memory usage: 117.3+ KB\n"
     ]
    }
   ],
   "source": [
    "df.drop(columns=['student_id'], inplace=True)\n",
    "df.info()"
   ]
  },
  {
   "cell_type": "markdown",
   "id": "fa224383-fca8-407e-b5db-e5908ea0ae7d",
   "metadata": {},
   "source": [
    "### **5. Convert String Values**"
   ]
  },
  {
   "cell_type": "code",
   "execution_count": 43,
   "id": "fb08beca-7f67-49af-83c7-4af37ef04beb",
   "metadata": {},
   "outputs": [],
   "source": [
    "pd.set_option('future.no_silent_downcasting', True)\n",
    "df['gender'] = df['gender'].replace({'Male': 0, 'Female': 1, 'Other': 3}).astype(int)\n",
    "df['parental_education_level'] = df['parental_education_level'].replace({'High School': 0, 'Bachelor': 1, 'Master': 2}).astype(int)"
   ]
  },
  {
   "cell_type": "markdown",
   "id": "c43fe0bc-d645-4ba0-b0f1-9348fc418a84",
   "metadata": {},
   "source": [
    "##### **Dropped *ID* column**"
   ]
  },
  {
   "cell_type": "markdown",
   "id": "935fd401-dba9-47e7-9f52-81e11a7a15a0",
   "metadata": {},
   "source": [
    "### **5. Set X (Feature Matrix) and y (Target Vector)**"
   ]
  },
  {
   "cell_type": "code",
   "execution_count": null,
   "id": "c41f4f61-4315-4a00-b9ca-53d438d8d081",
   "metadata": {},
   "outputs": [],
   "source": [
    "X = np.array(df.drop(columns=['exam_score']))\n",
    "y = np.array(df['exam_score'])"
   ]
  },
  {
   "cell_type": "markdown",
   "id": "69d9ef8d-c819-4d42-8b90-83de22dfb3a6",
   "metadata": {},
   "source": [
    "### **6. Split Data**"
   ]
  },
  {
   "cell_type": "code",
   "execution_count": null,
   "id": "a16caa59-fdf5-4991-93df-5501385ec5f0",
   "metadata": {},
   "outputs": [],
   "source": [
    "from sklearn.model_selection import train_test_split\n",
    "X_train, X_test, y_train, y_test = train_test_split(X, y, test_size=0.2, shuffle=True, random_state=42)"
   ]
  },
  {
   "cell_type": "code",
   "execution_count": null,
   "id": "66b61644-a20b-4d9d-bf37-5aee602860eb",
   "metadata": {},
   "outputs": [],
   "source": [
    "### ***7. Convert Strings "
   ]
  },
  {
   "cell_type": "markdown",
   "id": "dcca55e0-be43-4c29-8d95-18c99f15d0b0",
   "metadata": {},
   "source": [
    "### **7. Scale data**"
   ]
  },
  {
   "cell_type": "code",
   "execution_count": null,
   "id": "ada9f837-3147-41a6-bf57-3728ad44984b",
   "metadata": {},
   "outputs": [],
   "source": [
    "from sklearn.preprocessing import StandardScaler\n",
    "\n",
    "scaler = StandardScaler()\n",
    "X_train_scaled = scaler.fit_transform(X_train)"
   ]
  }
 ],
 "metadata": {
  "kernelspec": {
   "display_name": "Python 3 (ipykernel)",
   "language": "python",
   "name": "python3"
  },
  "language_info": {
   "codemirror_mode": {
    "name": "ipython",
    "version": 3
   },
   "file_extension": ".py",
   "mimetype": "text/x-python",
   "name": "python",
   "nbconvert_exporter": "python",
   "pygments_lexer": "ipython3",
   "version": "3.12.6"
  }
 },
 "nbformat": 4,
 "nbformat_minor": 5
}
