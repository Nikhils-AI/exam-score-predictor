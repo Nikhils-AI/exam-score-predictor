{
 "cells": [
  {
   "cell_type": "code",
   "execution_count": 1,
   "id": "d5dc8d84-0eac-4396-baa8-7ca80fde4c5b",
   "metadata": {},
   "outputs": [],
   "source": [
    "import matplotlib.pyplot as plt\n",
    "import pandas as pd\n",
    "import numpy as np"
   ]
  },
  {
   "cell_type": "markdown",
   "id": "f68923e1-870c-4a32-9195-973d5fa271b7",
   "metadata": {},
   "source": [
    "# **Pre-Processing**"
   ]
  },
  {
   "cell_type": "markdown",
   "id": "a6ef61db-d15d-47e6-9541-2972840ff089",
   "metadata": {},
   "source": [
    "### **1. Load and Read Data**"
   ]
  },
  {
   "cell_type": "code",
   "execution_count": 2,
   "id": "53a34bfd-21ce-4240-9fa5-1c3c276607d9",
   "metadata": {},
   "outputs": [],
   "source": [
    "df = pd.read_csv('../data/student_habits_performance.csv')"
   ]
  },
  {
   "cell_type": "markdown",
   "id": "cc1f6782-54bb-484c-b989-97b2abb6c188",
   "metadata": {},
   "source": [
    "### **2. Inspect Data**"
   ]
  },
  {
   "cell_type": "code",
   "execution_count": 3,
   "id": "1f933a3c-7adf-4b4d-bc46-76da1ccdb342",
   "metadata": {},
   "outputs": [
    {
     "name": "stdout",
     "output_type": "stream",
     "text": [
      "<class 'pandas.core.frame.DataFrame'>\n",
      "RangeIndex: 1000 entries, 0 to 999\n",
      "Data columns (total 16 columns):\n",
      " #   Column                         Non-Null Count  Dtype  \n",
      "---  ------                         --------------  -----  \n",
      " 0   student_id                     1000 non-null   object \n",
      " 1   age                            1000 non-null   int64  \n",
      " 2   gender                         1000 non-null   object \n",
      " 3   study_hours_per_day            1000 non-null   float64\n",
      " 4   social_media_hours             1000 non-null   float64\n",
      " 5   netflix_hours                  1000 non-null   float64\n",
      " 6   part_time_job                  1000 non-null   object \n",
      " 7   attendance_percentage          1000 non-null   float64\n",
      " 8   sleep_hours                    1000 non-null   float64\n",
      " 9   diet_quality                   1000 non-null   object \n",
      " 10  exercise_frequency             1000 non-null   int64  \n",
      " 11  parental_education_level       909 non-null    object \n",
      " 12  internet_quality               1000 non-null   object \n",
      " 13  mental_health_rating           1000 non-null   int64  \n",
      " 14  extracurricular_participation  1000 non-null   object \n",
      " 15  exam_score                     1000 non-null   float64\n",
      "dtypes: float64(6), int64(3), object(7)\n",
      "memory usage: 125.1+ KB\n"
     ]
    }
   ],
   "source": [
    "df.info()"
   ]
  },
  {
   "cell_type": "markdown",
   "id": "7ff1db47-4959-49d7-bb57-4d0fda04ded4",
   "metadata": {},
   "source": [
    "##### **We can infer that all columns except *parental_education_level* have no null values.**\n",
    "##### **The *student_id* column is unnecessary for our goal of predicting exam scores based off of student habits.** \n",
    "##### **The *gender*, *part_time_job*, *diet_quality*, *parental_education_level*, *internet_quality*, and *extracurricular_participation* columns are all non-numbers and must be converted for scaling and training.**"
   ]
  },
  {
   "cell_type": "markdown",
   "id": "917727d4-ac96-4c50-904c-f7004e98b29d",
   "metadata": {},
   "source": [
    "### **3. Fill Null Values**"
   ]
  },
  {
   "cell_type": "markdown",
   "id": "399cbfe9-3b05-4201-ad6b-22f7ebacbd0d",
   "metadata": {},
   "source": [
    "##### **Fill the null-values in the parental_education_level column.**"
   ]
  },
  {
   "cell_type": "code",
   "execution_count": 4,
   "id": "19e07124-4179-44c5-8a83-0099db28fb64",
   "metadata": {},
   "outputs": [
    {
     "name": "stdout",
     "output_type": "stream",
     "text": [
      "<class 'pandas.core.frame.DataFrame'>\n",
      "RangeIndex: 1000 entries, 0 to 999\n",
      "Data columns (total 16 columns):\n",
      " #   Column                         Non-Null Count  Dtype  \n",
      "---  ------                         --------------  -----  \n",
      " 0   student_id                     1000 non-null   object \n",
      " 1   age                            1000 non-null   int64  \n",
      " 2   gender                         1000 non-null   object \n",
      " 3   study_hours_per_day            1000 non-null   float64\n",
      " 4   social_media_hours             1000 non-null   float64\n",
      " 5   netflix_hours                  1000 non-null   float64\n",
      " 6   part_time_job                  1000 non-null   object \n",
      " 7   attendance_percentage          1000 non-null   float64\n",
      " 8   sleep_hours                    1000 non-null   float64\n",
      " 9   diet_quality                   1000 non-null   object \n",
      " 10  exercise_frequency             1000 non-null   int64  \n",
      " 11  parental_education_level       1000 non-null   object \n",
      " 12  internet_quality               1000 non-null   object \n",
      " 13  mental_health_rating           1000 non-null   int64  \n",
      " 14  extracurricular_participation  1000 non-null   object \n",
      " 15  exam_score                     1000 non-null   float64\n",
      "dtypes: float64(6), int64(3), object(7)\n",
      "memory usage: 125.1+ KB\n"
     ]
    }
   ],
   "source": [
    "filler = df['parental_education_level'].mode()[0]\n",
    "df['parental_education_level'] = df['parental_education_level'].fillna(filler)\n",
    "df.info()"
   ]
  },
  {
   "cell_type": "markdown",
   "id": "493b7f33-cba3-4a91-84cb-2dc5b0a9edc7",
   "metadata": {},
   "source": [
    "### **4. Drop Unnecessary Columns**"
   ]
  },
  {
   "cell_type": "markdown",
   "id": "c43fe0bc-d645-4ba0-b0f1-9348fc418a84",
   "metadata": {},
   "source": [
    "##### **Drop the *ID* column because it is unnecessary.**"
   ]
  },
  {
   "cell_type": "code",
   "execution_count": 5,
   "id": "c83cfff2-68d6-4021-91c1-8186da6a9cc6",
   "metadata": {},
   "outputs": [
    {
     "name": "stdout",
     "output_type": "stream",
     "text": [
      "<class 'pandas.core.frame.DataFrame'>\n",
      "RangeIndex: 1000 entries, 0 to 999\n",
      "Data columns (total 15 columns):\n",
      " #   Column                         Non-Null Count  Dtype  \n",
      "---  ------                         --------------  -----  \n",
      " 0   age                            1000 non-null   int64  \n",
      " 1   gender                         1000 non-null   object \n",
      " 2   study_hours_per_day            1000 non-null   float64\n",
      " 3   social_media_hours             1000 non-null   float64\n",
      " 4   netflix_hours                  1000 non-null   float64\n",
      " 5   part_time_job                  1000 non-null   object \n",
      " 6   attendance_percentage          1000 non-null   float64\n",
      " 7   sleep_hours                    1000 non-null   float64\n",
      " 8   diet_quality                   1000 non-null   object \n",
      " 9   exercise_frequency             1000 non-null   int64  \n",
      " 10  parental_education_level       1000 non-null   object \n",
      " 11  internet_quality               1000 non-null   object \n",
      " 12  mental_health_rating           1000 non-null   int64  \n",
      " 13  extracurricular_participation  1000 non-null   object \n",
      " 14  exam_score                     1000 non-null   float64\n",
      "dtypes: float64(6), int64(3), object(6)\n",
      "memory usage: 117.3+ KB\n"
     ]
    }
   ],
   "source": [
    "df.drop(columns=['student_id'], inplace=True)\n",
    "df.info()"
   ]
  },
  {
   "cell_type": "markdown",
   "id": "fa224383-fca8-407e-b5db-e5908ea0ae7d",
   "metadata": {},
   "source": [
    "### **5. Convert String Values**"
   ]
  },
  {
   "cell_type": "markdown",
   "id": "10e803f0-ee7f-4f3b-9d00-5479c73bf87c",
   "metadata": {},
   "source": [
    "##### **Inspect the columns with string values**"
   ]
  },
  {
   "cell_type": "code",
   "execution_count": 6,
   "id": "fb08beca-7f67-49af-83c7-4af37ef04beb",
   "metadata": {},
   "outputs": [
    {
     "name": "stdout",
     "output_type": "stream",
     "text": [
      "gender\n",
      "Female    481\n",
      "Male      477\n",
      "Other      42\n",
      "Name: count, dtype: int64 \n",
      "\n",
      "part_time_job\n",
      "No     785\n",
      "Yes    215\n",
      "Name: count, dtype: int64 \n",
      "\n",
      "diet_quality\n",
      "Fair    437\n",
      "Good    378\n",
      "Poor    185\n",
      "Name: count, dtype: int64 \n",
      "\n",
      "parental_education_level\n",
      "High School    483\n",
      "Bachelor       350\n",
      "Master         167\n",
      "Name: count, dtype: int64 \n",
      "\n",
      "internet_quality\n",
      "Good       447\n",
      "Average    391\n",
      "Poor       162\n",
      "Name: count, dtype: int64 \n",
      "\n",
      "extracurricular_participation\n",
      "No     682\n",
      "Yes    318\n",
      "Name: count, dtype: int64\n"
     ]
    }
   ],
   "source": [
    "print(df['gender'].value_counts(), '\\n')\n",
    "print(df['part_time_job'].value_counts(), '\\n')\n",
    "print(df['diet_quality'].value_counts(), '\\n')\n",
    "print(df['parental_education_level'].value_counts(), '\\n')\n",
    "print(df['internet_quality'].value_counts(), '\\n')\n",
    "print(df['extracurricular_participation'].value_counts())"
   ]
  },
  {
   "cell_type": "markdown",
   "id": "3cc1c711-9b22-44a6-898f-be51eb3959ce",
   "metadata": {},
   "source": [
    "##### **Convert the string values into integers**"
   ]
  },
  {
   "cell_type": "code",
   "execution_count": 7,
   "id": "b4819069-e985-413a-810e-2e9767c14a83",
   "metadata": {},
   "outputs": [],
   "source": [
    "pd.set_option('future.no_silent_downcasting', True)\n",
    "df['gender'] = df['gender'].replace({'Male': 0, 'Female': 1, 'Other': 2}).astype(int)\n",
    "df['part_time_job'] = df['part_time_job'].replace({'No': 0, 'Yes': 1}).astype(int)\n",
    "df['diet_quality'] = df['diet_quality'].replace({'Poor': 0, 'Fair': 1, 'Good': 2}).astype(int)\n",
    "df['parental_education_level'] = df['parental_education_level'].replace({'High School': 0, 'Bachelor': 1, 'Master': 2}).astype(int)\n",
    "df['internet_quality'] = df['internet_quality'].replace({'Poor': 0, 'Average': 1, 'Good': 2})\n",
    "df['extracurricular_participation'] = df['extracurricular_participation'].replace({'No': 0, 'Yes': 1}).astype(int)"
   ]
  },
  {
   "cell_type": "markdown",
   "id": "935fd401-dba9-47e7-9f52-81e11a7a15a0",
   "metadata": {},
   "source": [
    "### **6. Set X (Feature Matrix) and y (Target Vector)**"
   ]
  },
  {
   "cell_type": "code",
   "execution_count": 8,
   "id": "c41f4f61-4315-4a00-b9ca-53d438d8d081",
   "metadata": {},
   "outputs": [],
   "source": [
    "X = np.array(df.drop(columns=['exam_score']))\n",
    "y = np.array(df['exam_score'])"
   ]
  },
  {
   "cell_type": "markdown",
   "id": "69d9ef8d-c819-4d42-8b90-83de22dfb3a6",
   "metadata": {},
   "source": [
    "### **7. Split Data**"
   ]
  },
  {
   "cell_type": "code",
   "execution_count": 9,
   "id": "a16caa59-fdf5-4991-93df-5501385ec5f0",
   "metadata": {},
   "outputs": [],
   "source": [
    "from sklearn.model_selection import train_test_split\n",
    "X_train, X_test, y_train, y_test = train_test_split(X, y, test_size=0.2, shuffle=True, random_state=42)"
   ]
  },
  {
   "cell_type": "markdown",
   "id": "18623fc4-b7e7-45d3-aa54-b4562f069790",
   "metadata": {},
   "source": [
    "# **Training Model**"
   ]
  },
  {
   "cell_type": "markdown",
   "id": "72baede7-2e65-4a1b-890c-faf1bf2b4b15",
   "metadata": {},
   "source": [
    "##### **Train using basic linear regression, ridge regression, lasso regression, and elastic net regression in a pipeline where data is scaled first**"
   ]
  },
  {
   "cell_type": "code",
   "execution_count": 10,
   "id": "5816441b-c1d9-4e11-8ea8-40ceff731d99",
   "metadata": {},
   "outputs": [],
   "source": [
    "from sklearn.linear_model import LinearRegression, Ridge, Lasso, ElasticNet\n",
    "from sklearn.preprocessing import StandardScaler\n",
    "from sklearn.pipeline import Pipeline\n",
    "\n",
    "lin_pipe = Pipeline(steps=[('scaler', StandardScaler()), ('estimator', LinearRegression())]).fit(X_train, y_train)\n",
    "ridge_pipe = Pipeline(steps=[('scaler', StandardScaler()), ('estimator', Ridge())]).fit(X_train, y_train)\n",
    "lasso_pipe = Pipeline(steps=[('scaler', StandardScaler()), ('estimator', Lasso())]).fit(X_train, y_train)\n",
    "elastic_pipe = Pipeline(steps=[('scaler', StandardScaler()), ('estimator', ElasticNet())]).fit(X_train, y_train)"
   ]
  },
  {
   "cell_type": "markdown",
   "id": "7aaf0810-570a-4e40-a4af-a35fb514869b",
   "metadata": {},
   "source": [
    "##### **Test models**"
   ]
  },
  {
   "cell_type": "code",
   "execution_count": 11,
   "id": "62c7c483-7eb4-44f7-b133-dd58e4234b28",
   "metadata": {},
   "outputs": [
    {
     "name": "stdout",
     "output_type": "stream",
     "text": [
      "Linear Regression: 5.096739132437629\n",
      "Ridge: 5.09804550782312\n",
      "Lasso: 5.768339367886458\n",
      "Elastic Net: 7.807204147907884\n"
     ]
    }
   ],
   "source": [
    "from sklearn.metrics import root_mean_squared_error as rmse\n",
    "\n",
    "lin_pipe_pred = lin_pipe.predict(X_test)\n",
    "ridge_pipe_pred = ridge_pipe.predict(X_test)\n",
    "lasso_pipe_pred = lasso_pipe.predict(X_test)\n",
    "elastic_pipe_pred = elastic_pipe.predict(X_test)\n",
    "\n",
    "print(\"Linear Regression:\", rmse(y_test, lin_pipe_pred))\n",
    "print(\"Ridge:\", rmse(y_test, ridge_pipe_pred))\n",
    "print(\"Lasso:\", rmse(y_test, lasso_pipe_pred))\n",
    "print(\"Elastic Net:\", rmse(y_test, elastic_pipe_pred))"
   ]
  },
  {
   "cell_type": "markdown",
   "id": "4af944f0-43b0-43a3-94a7-2c1ae70adfab",
   "metadata": {},
   "source": [
    "##### **Attempt to improve regularized models by testing different alpha values**\n"
   ]
  },
  {
   "cell_type": "code",
   "execution_count": 12,
   "id": "81619641-7309-4f18-bd01-b54867c1c47d",
   "metadata": {},
   "outputs": [
    {
     "data": {
      "image/png": "[encoded data removed]",
      "text/plain": [
       "<Figure size 640x480 with 1 Axes>"
      ]
     },
     "metadata": {},
     "output_type": "display_data"
    },
    {
     "name": "stdout",
     "output_type": "stream",
     "text": [
      "Ridge: Best Alpha - 0.001, Best RMSE - 5.096740406172864\n"
     ]
    }
   ],
   "source": [
    "alphas = [0.001, 0.01, 0.1, 1, 10, 100]\n",
    "rmse_vals = []\n",
    "rmse_best, alpha_best = 100, 100\n",
    "\n",
    "for a in alphas: \n",
    "    pipe = Pipeline(steps=[('scaler', StandardScaler()), ('estimator', Ridge(alpha=a))]).fit(X_train, y_train)\n",
    "    pipe_pred = pipe.predict(X_test)\n",
    "    pipe_rmse = rmse(y_test, pipe_pred)\n",
    "    rmse_vals.append(pipe_rmse)\n",
    "    if pipe_rmse <= rmse_best:\n",
    "        rmse_best = pipe_rmse\n",
    "        alpha_best = a\n",
    "\n",
    "plt.plot(np.log10(alphas), rmse_vals, color=(0, 0, 0.55), marker='o')\n",
    "plt.xlabel('Log10(alpha)')\n",
    "plt.ylabel('Test RMSE')\n",
    "plt.grid(True)\n",
    "plt.show()\n",
    "\n",
    "print(f\"Ridge: Best Alpha - {alpha_best}, Best RMSE - {rmse_best}\")"
   ]
  },
  {
   "cell_type": "markdown",
   "id": "34adaf31-5d62-4a47-b31a-dfd865d861f4",
   "metadata": {},
   "source": [
    "##### **The sweet spot is alpha set to 0.001 for ridge regression**"
   ]
  },
  {
   "cell_type": "markdown",
   "id": "a9022405-670d-4245-90bd-28969331b15b",
   "metadata": {},
   "source": [
    "# **Decide On Final Model**"
   ]
  },
  {
   "cell_type": "markdown",
   "id": "ecfc9243-8d3d-47f0-afae-0124136fa8b5",
   "metadata": {},
   "source": [
    "##### **The model using linear regression has the lowest RMSE value.**\n",
    "##### **Therefore, the final model will use linear regression**"
   ]
  },
  {
   "cell_type": "code",
   "execution_count": 13,
   "id": "42805666-bffa-4955-8771-257d949d9bed",
   "metadata": {},
   "outputs": [
    {
     "data": {
      "text/plain": [
       "5.096739132437629"
      ]
     },
     "execution_count": 13,
     "metadata": {},
     "output_type": "execute_result"
    }
   ],
   "source": [
    "final_pipe = Pipeline([\n",
    "    ('scaler', StandardScaler()),\n",
    "    ('estimator', LinearRegression())]).fit(X_train, y_train)\n",
    "final_model_pred = final_pipe.predict(X_test)\n",
    "rmse(y_test, final_model_pred)"
   ]
  },
  {
   "cell_type": "markdown",
   "id": "d78d90c3-b968-4849-af3d-426439e4e0f1",
   "metadata": {},
   "source": [
    "# **Save Model For Further Use**"
   ]
  },
  {
   "cell_type": "code",
   "execution_count": 14,
   "id": "0042c2d1-978d-4c2c-86fa-0c7d8da6b14e",
   "metadata": {},
   "outputs": [
    {
     "data": {
      "text/plain": [
       "['pipe.joblib']"
      ]
     },
     "execution_count": 14,
     "metadata": {},
     "output_type": "execute_result"
    }
   ],
   "source": [
    "from joblib import dump\n",
    "\n",
    "dump(final_pipe, 'pipe.joblib')"
   ]
  }
 ],
 "metadata": {
  "kernelspec": {
   "display_name": "Python 3 (ipykernel)",
   "language": "python",
   "name": "python3"
  },
  "language_info": {
   "codemirror_mode": {
    "name": "ipython",
    "version": 3
   },
   "file_extension": ".py",
   "mimetype": "text/x-python",
   "name": "python",
   "nbconvert_exporter": "python",
   "pygments_lexer": "ipython3",
   "version": "3.12.6"
  }
 },
 "nbformat": 4,
 "nbformat_minor": 5
}
