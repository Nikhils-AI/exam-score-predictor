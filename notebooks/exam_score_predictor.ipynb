{
 "cells": [
  {
   "cell_type": "code",
   "execution_count": null,
   "id": "d5dc8d84-0eac-4396-baa8-7ca80fde4c5b",
   "metadata": {},
   "outputs": [],
   "source": [
    "import matplotlib.pyplot as plt\n",
    "import pandas as pd\n",
    "import numpy as np"
   ]
  },
  {
   "cell_type": "markdown",
   "id": "f68923e1-870c-4a32-9195-973d5fa271b7",
   "metadata": {},
   "source": [
    "# **Pre-Processing**"
   ]
  },
  {
   "cell_type": "markdown",
   "id": "a6ef61db-d15d-47e6-9541-2972840ff089",
   "metadata": {},
   "source": [
    "### **1. Load and Read Data**"
   ]
  },
  {
   "cell_type": "code",
   "execution_count": null,
   "id": "53a34bfd-21ce-4240-9fa5-1c3c276607d9",
   "metadata": {},
   "outputs": [],
   "source": [
    "df = pd.read_csv('../data/student_habits_performance.csv')"
   ]
  },
  {
   "cell_type": "markdown",
   "id": "cc1f6782-54bb-484c-b989-97b2abb6c188",
   "metadata": {},
   "source": [
    "### **2. Inspect Data**"
   ]
  },
  {
   "cell_type": "code",
   "execution_count": null,
   "id": "1f933a3c-7adf-4b4d-bc46-76da1ccdb342",
   "metadata": {},
   "outputs": [],
   "source": [
    "df.info()"
   ]
  },
  {
   "cell_type": "markdown",
   "id": "7ff1db47-4959-49d7-bb57-4d0fda04ded4",
   "metadata": {},
   "source": [
    "##### **We can infer that all columns except *parental_education_level* have no null values.**\n",
    "##### **The *student_id* column is unnecessary for our goal of predicting exam scores based off of student habits.** \n",
    "##### **The *gender*, *part_time_job*, *diet_quality*, *parental_education_level*, *internet_quality*, and *extracurricular_participation* columns are all non-numbers and must be converted for scaling and training.**"
   ]
  },
  {
   "cell_type": "markdown",
   "id": "917727d4-ac96-4c50-904c-f7004e98b29d",
   "metadata": {},
   "source": [
    "### **3. Fill Null Values**"
   ]
  },
  {
   "cell_type": "markdown",
   "id": "399cbfe9-3b05-4201-ad6b-22f7ebacbd0d",
   "metadata": {},
   "source": [
    "##### **Fill the null-values in the parental_education_level column.**"
   ]
  },
  {
   "cell_type": "code",
   "execution_count": null,
   "id": "19e07124-4179-44c5-8a83-0099db28fb64",
   "metadata": {},
   "outputs": [],
   "source": [
    "filler = df['parental_education_level'].mode()[0]\n",
    "df['parental_education_level'] = df['parental_education_level'].fillna(filler)\n",
    "df.info()"
   ]
  },
  {
   "cell_type": "markdown",
   "id": "493b7f33-cba3-4a91-84cb-2dc5b0a9edc7",
   "metadata": {},
   "source": [
    "### **4. Drop Unnecessary Columns**"
   ]
  },
  {
   "cell_type": "markdown",
   "id": "c43fe0bc-d645-4ba0-b0f1-9348fc418a84",
   "metadata": {},
   "source": [
    "##### **Drop the *ID* column because it is unnecessary.**"
   ]
  },
  {
   "cell_type": "code",
   "execution_count": null,
   "id": "c83cfff2-68d6-4021-91c1-8186da6a9cc6",
   "metadata": {},
   "outputs": [],
   "source": [
    "df.drop(columns=['student_id'], inplace=True)\n",
    "df.info()"
   ]
  },
  {
   "cell_type": "markdown",
   "id": "fa224383-fca8-407e-b5db-e5908ea0ae7d",
   "metadata": {},
   "source": [
    "### **5. Convert String Values**"
   ]
  },
  {
   "cell_type": "markdown",
   "id": "10e803f0-ee7f-4f3b-9d00-5479c73bf87c",
   "metadata": {},
   "source": [
    "##### **Inspect the columns with string values**"
   ]
  },
  {
   "cell_type": "code",
   "execution_count": null,
   "id": "fb08beca-7f67-49af-83c7-4af37ef04beb",
   "metadata": {},
   "outputs": [],
   "source": [
    "print(df['gender'].value_counts(), '\\n')\n",
    "print(df['part_time_job'].value_counts(), '\\n')\n",
    "print(df['diet_quality'].value_counts(), '\\n')\n",
    "print(df['parental_education_level'].value_counts(), '\\n')\n",
    "print(df['internet_quality'].value_counts(), '\\n')\n",
    "print(df['extracurricular_participation'].value_counts())"
   ]
  },
  {
   "cell_type": "markdown",
   "id": "3cc1c711-9b22-44a6-898f-be51eb3959ce",
   "metadata": {},
   "source": [
    "##### **Convert the string values into integers**"
   ]
  },
  {
   "cell_type": "code",
   "execution_count": null,
   "id": "b4819069-e985-413a-810e-2e9767c14a83",
   "metadata": {},
   "outputs": [],
   "source": [
    "pd.set_option('future.no_silent_downcasting', True)\n",
    "df['gender'] = df['gender'].replace({'Male': 0, 'Female': 1, 'Other': 2}).astype(int)\n",
    "df['part_time_job'] = df['part_time_job'].replace({'No': 0, 'Yes': 1}).astype(int)\n",
    "df['diet_quality'] = df['diet_quality'].replace({'Poor': 0, 'Fair': 1, 'Good': 2}).astype(int)\n",
    "df['parental_education_level'] = df['parental_education_level'].replace({'High School': 0, 'Bachelor': 1, 'Master': 2}).astype(int)\n",
    "df['internet_quality'] = df['internet_quality'].replace({'Poor': 0, 'Average': 1, 'Good': 2})\n",
    "df['extracurricular_participation'] = df['extracurricular_participation'].replace({'No': 0, 'Yes': 1}).astype(int)"
   ]
  },
  {
   "cell_type": "markdown",
   "id": "935fd401-dba9-47e7-9f52-81e11a7a15a0",
   "metadata": {},
   "source": [
    "### **6. Set X (Feature Matrix) and y (Target Vector)**"
   ]
  },
  {
   "cell_type": "code",
   "execution_count": null,
   "id": "c41f4f61-4315-4a00-b9ca-53d438d8d081",
   "metadata": {},
   "outputs": [],
   "source": [
    "X = np.array(df.drop(columns=['exam_score']))\n",
    "y = np.array(df['exam_score'])"
   ]
  },
  {
   "cell_type": "markdown",
   "id": "69d9ef8d-c819-4d42-8b90-83de22dfb3a6",
   "metadata": {},
   "source": [
    "### **7. Split Data**"
   ]
  },
  {
   "cell_type": "code",
   "execution_count": null,
   "id": "a16caa59-fdf5-4991-93df-5501385ec5f0",
   "metadata": {},
   "outputs": [],
   "source": [
    "from sklearn.model_selection import train_test_split\n",
    "X_train, X_test, y_train, y_test = train_test_split(X, y, test_size=0.2, shuffle=True, random_state=42)"
   ]
  },
  {
   "cell_type": "markdown",
   "id": "dcca55e0-be43-4c29-8d95-18c99f15d0b0",
   "metadata": {},
   "source": [
    "### **8. Scale data**"
   ]
  },
  {
   "cell_type": "code",
   "execution_count": null,
   "id": "ada9f837-3147-41a6-bf57-3728ad44984b",
   "metadata": {},
   "outputs": [],
   "source": [
    "from sklearn.preprocessing import StandardScaler\n",
    "\n",
    "scaler = StandardScaler()\n",
    "X_train_scaled = scaler.fit_transform(X_train)"
   ]
  }
 ],
 "metadata": {
  "kernelspec": {
   "display_name": "Python 3 (ipykernel)",
   "language": "python",
   "name": "python3"
  },
  "language_info": {
   "codemirror_mode": {
    "name": "ipython",
    "version": 3
   },
   "file_extension": ".py",
   "mimetype": "text/x-python",
   "name": "python",
   "nbconvert_exporter": "python",
   "pygments_lexer": "ipython3",
   "version": "3.12.6"
  }
 },
 "nbformat": 4,
 "nbformat_minor": 5
}
